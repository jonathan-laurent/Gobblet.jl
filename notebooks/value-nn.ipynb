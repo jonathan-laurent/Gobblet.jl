{
 "cells": [
  {
   "cell_type": "code",
   "execution_count": null,
   "metadata": {},
   "outputs": [],
   "source": [
    "# In Julia, you want the features matrix to be nfeatures × nsamples (feature vectors are columns)"
   ]
  },
  {
   "cell_type": "code",
   "execution_count": 1,
   "metadata": {},
   "outputs": [],
   "source": [
    "using Gobblet.TicTacToe"
   ]
  },
  {
   "cell_type": "code",
   "execution_count": 2,
   "metadata": {},
   "outputs": [
    {
     "name": "stderr",
     "output_type": "stream",
     "text": [
      "┌ Info: Recompiling stale cache file /Users/jlauren1/.julia/compiled/v1.1/Flux/QdkVy.ji for Flux [587475ba-b771-5e3f-ad9e-33799f191a9c]\n",
      "└ @ Base loading.jl:1184\n"
     ]
    }
   ],
   "source": [
    "import Random\n",
    "using Statistics\n",
    "using LinearAlgebra: norm\n",
    "using Flux\n",
    "using Flux: onehot, onecold, crossentropy, throttle, @epochs, testmode!"
   ]
  },
  {
   "cell_type": "code",
   "execution_count": 3,
   "metadata": {},
   "outputs": [
    {
     "data": {
      "text/plain": [
       "vectorize_board (generic function with 1 method)"
      ]
     },
     "execution_count": 3,
     "metadata": {},
     "output_type": "execute_result"
    }
   ],
   "source": [
    "flatten = collect ∘ Iterators.flatten\n",
    "function vectorize_board(board)\n",
    "    map(board[:,l] for l in 1:NUM_LAYERS) do layer\n",
    "        map(layer) do p\n",
    "            Float32[isnothing(p), p == Red, p == Blue]\n",
    "        end |> flatten\n",
    "    end |> flatten\n",
    "end\n",
    "\n",
    "#vectorize_board(make_board())"
   ]
  },
  {
   "cell_type": "code",
   "execution_count": 4,
   "metadata": {},
   "outputs": [
    {
     "data": {
      "text/plain": [
       "Solution(Bool[true, false, true, true, false, true, true, false, true, true  …  true, true, true, true, true, true, true, true, true, true], false, 19683, 5)"
      ]
     },
     "execution_count": 4,
     "metadata": {},
     "output_type": "execute_result"
    }
   ],
   "source": [
    "solution = solve()"
   ]
  },
  {
   "cell_type": "code",
   "execution_count": 6,
   "metadata": {},
   "outputs": [
    {
     "data": {
      "text/plain": [
       "State"
      ]
     },
     "execution_count": 6,
     "metadata": {},
     "output_type": "execute_result"
    }
   ],
   "source": [
    "function State(board::Board; first_player=Red)\n",
    "    s = State(first_player=first_player)\n",
    "    s.board = board\n",
    "    process_board_update!(s)\n",
    "    red_alignment = has_won(s, Red)\n",
    "    blue_alignment = has_won(s, Blue)\n",
    "    stuck = is_stuck(s)\n",
    "    if (stuck || red_alignment || blue_alignment) s.finished = true end\n",
    "    if (red_alignment && !blue_alignment) s.winner = Red end\n",
    "    if (blue_alignment && !red_alignment) s.winner = Blue end\n",
    "    return s\n",
    "end\n",
    "\n",
    "function State(code::Int)\n",
    "    B = make_board()\n",
    "    decode_board!(B, code)\n",
    "    State(B, first_player=Red)\n",
    "end"
   ]
  },
  {
   "cell_type": "code",
   "execution_count": 7,
   "metadata": {},
   "outputs": [
    {
     "data": {
      "text/plain": [
       "(Float32[1.0 0.0 … 0.0 1.0; 0.0 0.0 … 0.0 0.0; … ; 1.0 0.0 … 0.0 0.0; 0.0 0.0 … 0.0 0.0], Float32[0.0 1.0 … 0.0 1.0; 0.0 0.0 … 0.0 0.0; 1.0 0.0 … 1.0 0.0])"
      ]
     },
     "execution_count": 7,
     "metadata": {},
     "output_type": "execute_result"
    }
   ],
   "source": [
    "POSSIBLE_VALUES = [-1, 0, 1]\n",
    "\n",
    "interesting_state(st) = \n",
    "    !st.finished && available(st, Red)[1] - available(st, Blue)[1] ∈ [0, 1]\n",
    "\n",
    "function value_dataset(solution)\n",
    "    x = Vector{Float32}[]\n",
    "    y = Vector{Float32}[]\n",
    "    codes = Int[]\n",
    "    for code in 0:CARD_BOARDS-1\n",
    "        st = State(code)\n",
    "        if interesting_state(st)\n",
    "            V = value(status(solution, code))\n",
    "            push!(x, vectorize_board(st.board))\n",
    "            push!(y, Float32.(onehot(V, POSSIBLE_VALUES)))\n",
    "            push!(codes, code)\n",
    "        end\n",
    "    end\n",
    "    return reduce(hcat, x), reduce(hcat, y), codes\n",
    "end\n",
    "\n",
    "X, Y, Codes = value_dataset(solution)\n",
    "N = size(X)[2]\n",
    "perm = Random.randperm(N)\n",
    "X, Y = X[:, perm], Y[:, perm]\n",
    "\n",
    "Ntest = N ÷ 10\n",
    "Xtest,  Ytest  = X[:,1:Ntest], Y[:,1:Ntest]\n",
    "Xtrain, Ytrain = X[:,Ntest+1:end], Y[:,Ntest+1:end]"
   ]
  },
  {
   "cell_type": "code",
   "execution_count": 8,
   "metadata": {},
   "outputs": [
    {
     "data": {
      "text/plain": [
       "3×1 Array{Float32,2}:\n",
       "  632.0\n",
       " 1052.0\n",
       " 2836.0"
      ]
     },
     "execution_count": 8,
     "metadata": {},
     "output_type": "execute_result"
    }
   ],
   "source": [
    "# Observe number of winning/loosing configs\n",
    "# More winning configurations to red because it is about to play.\n",
    "sum(Y, dims=2)"
   ]
  },
  {
   "cell_type": "code",
   "execution_count": 18,
   "metadata": {},
   "outputs": [
    {
     "data": {
      "text/plain": [
       "iterate (generic function with 305 methods)"
      ]
     },
     "execution_count": 18,
     "metadata": {},
     "output_type": "execute_result"
    }
   ],
   "source": [
    "# Stochastic batches\n",
    "struct StochasticBatches\n",
    "    X\n",
    "    Y\n",
    "    N :: Int\n",
    "    batch_size :: Int\n",
    "    num_epochs :: Int\n",
    "    function StochasticBatches(X,Y;batch_size, num_epochs)\n",
    "        @assert size(X)[2] == size(Y)[2]\n",
    "        N = size(X)[2]\n",
    "        new(X, Y, N, batch_size, num_epochs)\n",
    "    end\n",
    "end\n",
    "\n",
    "import Base.iterate\n",
    "\n",
    "function iterate(B::StochasticBatches, rem)\n",
    "    if rem > 0\n",
    "        indices = rand(1:B.N, B.batch_size)\n",
    "        batch = (B.X[:, indices], B.Y[:, indices])\n",
    "        return (batch, rem-1)\n",
    "    else\n",
    "        return nothing\n",
    "    end\n",
    "end\n",
    "\n",
    "iterate(B::StochasticBatches) = iterate(B, B.num_epochs)"
   ]
  },
  {
   "cell_type": "code",
   "execution_count": 40,
   "metadata": {},
   "outputs": [
    {
     "data": {
      "text/plain": [
       "6-element Array{TrackedArray{…,Array{Float32,2}},1}:\n",
       " Float32[0.0923347 0.142067 … 0.205845 0.126846; -0.0593379 0.058034 … 0.168809 -0.125917; … ; -0.0892767 -0.215647 … -0.196134 -0.201507; 0.020898 0.215358 … -0.00047728 -0.201039] (tracked)           \n",
       " Float32[-0.140461 0.0312485 … -0.0266565 -0.000138215; -0.0903409 0.067695 … 0.0204294 -0.171848; … ; 0.162272 0.0928704 … 0.107399 -0.0647294; -0.00105898 -0.0619064 … -0.119091 -0.00957642] (tracked)\n",
       " Float32[0.0103104 -0.0839598 … 0.102463 0.169257; -0.159451 0.0848444 … -0.0517296 -0.0981979; … ; -0.116594 -0.1121 … -0.0380184 -0.0435465; 0.117266 -0.124329 … -0.0427423 0.0542367] (tracked)       \n",
       " Float32[0.105431 0.111935 … 0.120275 0.0892155; -0.171061 -0.0326176 … 0.070216 -0.0479025; … ; -0.0875467 0.157905 … 0.170374 -0.125937; -0.0836706 0.0929381 … -0.0910467 -0.0799067] (tracked)        \n",
       " Float32[0.0864833 0.118618 … 0.172547 -0.111816; -0.116719 -0.0917048 … 0.169437 -0.0514453; … ; 0.0936513 0.163863 … -0.165209 -0.0294344; -0.152835 -0.0347902 … -0.0213035 -0.0146853] (tracked)      \n",
       " Float32[-0.0640748 -0.00319614 … 0.21547 -0.00291274; 0.23901 0.0245892 … 0.125265 0.229139; -0.0639498 0.0685133 … 0.163108 0.173146] (tracked)                                                         "
      ]
     },
     "execution_count": 40,
     "metadata": {},
     "output_type": "execute_result"
    }
   ],
   "source": [
    "Ws = [layer.W for layer in NN if isa(layer, Dense)]"
   ]
  },
  {
   "cell_type": "code",
   "execution_count": 43,
   "metadata": {},
   "outputs": [
    {
     "name": "stdout",
     "output_type": "stream",
     "text": [
      "(accuracy(Xtest, Ytest), loss(Xtrain, Ytrain), maximum_weight(NN)) = (0.3274336283185841, 1.0972968501753413 (tracked), 0.24135657f0 (tracked))\n",
      "(accuracy(Xtest, Ytest), loss(Xtrain, Ytrain), maximum_weight(NN)) = (0.831858407079646, 0.3479780687358608 (tracked), 0.4990248f0 (tracked))\n",
      "(accuracy(Xtest, Ytest), loss(Xtrain, Ytrain), maximum_weight(NN)) = (0.8805309734513275, 0.12875844957272814 (tracked), 0.5630298f0 (tracked))\n",
      "(accuracy(Xtest, Ytest), loss(Xtrain, Ytrain), maximum_weight(NN)) = (0.9092920353982301, 0.06522504575544066 (tracked), 0.5834315f0 (tracked))\n",
      "(accuracy(Xtest, Ytest), loss(Xtrain, Ytrain), maximum_weight(NN)) = (0.911504424778761, 0.03229481679389611 (tracked), 0.62352896f0 (tracked))\n",
      "(accuracy(Xtest, Ytest), loss(Xtrain, Ytrain), maximum_weight(NN)) = (0.9292035398230089, 0.021152689031502626 (tracked), 0.64473325f0 (tracked))\n",
      "(accuracy(Xtest, Ytest), loss(Xtrain, Ytrain), maximum_weight(NN)) = (0.9247787610619469, 0.0108484872942248 (tracked), 0.68412566f0 (tracked))\n",
      "(accuracy(Xtest, Ytest), loss(Xtrain, Ytrain), maximum_weight(NN)) = (0.9269911504424779, 0.006654759080216504 (tracked), 0.70138747f0 (tracked))\n",
      "(accuracy(Xtest, Ytest), loss(Xtrain, Ytrain), maximum_weight(NN)) = (0.9336283185840708, 0.006232970916712329 (tracked), 0.70657486f0 (tracked))\n",
      "(accuracy(Xtest, Ytest), loss(Xtrain, Ytrain), maximum_weight(NN)) = (0.922566371681416, 0.004675620173213296 (tracked), 0.7201928f0 (tracked))\n",
      "(accuracy(Xtest, Ytest), loss(Xtrain, Ytrain), maximum_weight(NN)) = (0.9424778761061947, 0.005320755128033418 (tracked), 0.72091395f0 (tracked))\n",
      "(accuracy(Xtest, Ytest), loss(Xtrain, Ytrain), maximum_weight(NN)) = (0.9336283185840708, 0.0032024398609887166 (tracked), 0.72166103f0 (tracked))\n",
      "(accuracy(Xtest, Ytest), loss(Xtrain, Ytrain), maximum_weight(NN)) = (0.9336283185840708, 0.003051668586238659 (tracked), 0.7453672f0 (tracked))\n",
      "(accuracy(Xtest, Ytest), loss(Xtrain, Ytrain), maximum_weight(NN)) = (0.9314159292035398, 0.006266253420586759 (tracked), 0.7513957f0 (tracked))\n",
      "(accuracy(Xtest, Ytest), loss(Xtrain, Ytrain), maximum_weight(NN)) = (0.9358407079646017, 0.002487603538879604 (tracked), 0.7617882f0 (tracked))\n",
      "(accuracy(Xtest, Ytest), loss(Xtrain, Ytrain), maximum_weight(NN)) = (0.9137168141592921, 0.010093895772602406 (tracked), 0.76291865f0 (tracked))\n",
      "(accuracy(Xtest, Ytest), loss(Xtrain, Ytrain), maximum_weight(NN)) = (0.9247787610619469, 0.0016252703661051142 (tracked), 0.79633266f0 (tracked))\n",
      "(accuracy(Xtest, Ytest), loss(Xtrain, Ytrain), maximum_weight(NN)) = (0.9336283185840708, 0.0015087597197110765 (tracked), 0.8239671f0 (tracked))\n"
     ]
    }
   ],
   "source": [
    "INPUT_DIM = size(X)[1] # 3 * NUM_POSITIONS * NUM_LAYERS\n",
    "OUTPUT_DIM = size(Y)[1] # length(POSSIBLE_VALUES)\n",
    "HIDDEN_1 = 100\n",
    "HIDDEN_2 = 100\n",
    "DROPOUT_RATIO = 0.5\n",
    "\n",
    "NN = Chain(\n",
    "    Dense(INPUT_DIM, HIDDEN_1, relu),\n",
    "    Dense(HIDDEN_1, HIDDEN_2, relu),\n",
    "    Dropout(DROPOUT_RATIO),\n",
    "    Dense(HIDDEN_2, HIDDEN_2, relu),\n",
    "    Dropout(DROPOUT_RATIO),\n",
    "    Dense(HIDDEN_2, HIDDEN_2, relu),\n",
    "    Dropout(DROPOUT_RATIO),\n",
    "    Dense(HIDDEN_2, HIDDEN_2, relu),\n",
    "    Dense(HIDDEN_2, OUTPUT_DIM),\n",
    "    softmax)\n",
    "\n",
    "testmode!(NN, false)\n",
    "\n",
    "λ = 0.01 # Regularization constant\n",
    "Ws = [layer.W for layer in NN if isa(layer, Dense)]\n",
    "raw_loss(x, y) = crossentropy(NN(x) .+ 1e-7, y)\n",
    "loss(x, y) =  raw_loss(x, y) # + λ * sum(norm, Ws)\n",
    "accuracy(x, y) = mean(onecold(NN(x)) .== onecold(y))\n",
    "\n",
    "#dataset = Iterators.repeated((Xtrain, Ytrain), 1000)\n",
    "dataset = StochasticBatches(Xtrain, Ytrain, batch_size=128, num_epochs=10000)\n",
    "\n",
    "maximum_weight(NN) = maximum(p -> maximum(abs.(p)), params(NN))\n",
    "    \n",
    "function evalcb()\n",
    "    testmode!(NN, true)\n",
    "    if accuracy(Xtest, Ytest) > 1 - 1e-2 || raw_loss(Xtrain, Ytrain) < 1e-4\n",
    "        Flux.stop()\n",
    "    end\n",
    "    @show (accuracy(Xtest, Ytest), loss(Xtrain, Ytrain), maximum_weight(NN))\n",
    "    testmode!(NN, false)\n",
    "end\n",
    "opt = ADAM(1e-3)\n",
    "Flux.train!(loss, params(NN), dataset, opt, cb = throttle(evalcb, 10))"
   ]
  },
  {
   "cell_type": "code",
   "execution_count": null,
   "metadata": {},
   "outputs": [],
   "source": [
    "testnode!(NN, true)\n",
    "function predict(code)\n",
    "    x = vectorize_board(State(code).board)\n",
    "    onecold(NN(x), POSSIBLE_VALUES)\n",
    "end"
   ]
  },
  {
   "cell_type": "code",
   "execution_count": null,
   "metadata": {},
   "outputs": [],
   "source": [
    "function find_counterexamples()\n",
    "    cexs = []\n",
    "    for code in Codes\n",
    "        st = State(code)\n",
    "        if !st.finished && predict(code) != value(solution, st)\n",
    "           push!(cexs, code) \n",
    "        end\n",
    "    end\n",
    "    return cexs\n",
    "end\n",
    "cexs = find_counterexamples()"
   ]
  },
  {
   "cell_type": "code",
   "execution_count": null,
   "metadata": {},
   "outputs": [],
   "source": [
    "for cex in cexs\n",
    "    st = State(cex)\n",
    "    print_board(st)\n",
    "    println(\"Predicted value: \", predict(cex))\n",
    "    println(\"True value: \", value(solution, st))\n",
    "    print(\"\\n\")\n",
    "end"
   ]
  },
  {
   "cell_type": "code",
   "execution_count": null,
   "metadata": {},
   "outputs": [],
   "source": [
    "#=\n",
    "import Flux.Tracker\n",
    "import Flux.Optimise\n",
    "\n",
    "function train!(loss, ps, data, opt; cb = () -> ())\n",
    "  ps = Tracker.Params(ps)\n",
    "  for d in data\n",
    "    #print(\"| any inf: \", any(p -> any(isinf, p), params(NN)))\n",
    "    #print(\"| any nan: \", any(p -> any(isnan, p), params(NN)))\n",
    "    #print(\"| maximum: \", maximum(p -> maximum(abs.(p)), params(NN)))\n",
    "    #print(\"\\n\")\n",
    "    gs = gradient(ps) do \n",
    "        loss(d...)\n",
    "    end\n",
    "    Flux.Optimise.update!(opt, ps, gs)\n",
    "    cb()\n",
    "  end\n",
    "end\n",
    "\n",
    "function winner_dataset(solution)\n",
    "    x = Vector{Float32}[]\n",
    "    y = Vector{Float32}[]\n",
    "    for code in 0:CARD_BOARDS-1\n",
    "        st = State(code)\n",
    "        push!(x, vectorize_board(st.board))\n",
    "        push!(y, Float32.(onehot(st.winner, [nothing, Red, Blue])))\n",
    "    end\n",
    "    return reduce(hcat, x), reduce(hcat, y)\n",
    "end\n",
    "=#"
   ]
  }
 ],
 "metadata": {
  "@webio": {
   "lastCommId": null,
   "lastKernelId": null
  },
  "kernelspec": {
   "display_name": "Julia 1.1.0",
   "language": "julia",
   "name": "julia-1.1"
  },
  "language_info": {
   "file_extension": ".jl",
   "mimetype": "application/julia",
   "name": "julia",
   "version": "1.1.0"
  }
 },
 "nbformat": 4,
 "nbformat_minor": 2
}
